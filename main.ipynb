{
 "cells": [
  {
   "cell_type": "markdown",
   "metadata": {},
   "source": [
    "# Amplifying the Impact of Your Code\n",
    "\n",
    "<span id=\"introduction\"/>\n",
    "\n",
    "If you'd love to see more people using your code.... to magnify the impact of the code you already write... it makes sense to study successful open source libraries. They become successful and popular because, first and foremost, they let people do things they care about: build software and solve problems which are important to them. But just solving an important problem isn't enough. The library also has to be *usable*. It needs to be easy for developers to adopt, to learn, to integrate in their existing application. These days, we all have too much to learn already; in picking between two libraries, we're going to naturally tend towards the one that will make it easiest for us to hit the ground running... and that's only natural.\n",
    "\n",
    "Let's study a wildly successful example: the excellent Pandas data analysis library. This library does an amazing and remarkable amount of magic under the hood, and we're not going to study any of that here. Rather, we're going to focus on the magic on the surface: the interface this library exposes. It's core abstraction is something called a **dataframe**:"
   ]
  },
  {
   "cell_type": "markdown",
   "metadata": {},
   "source": [
    "<span id=\"dataframeExample\"/>"
   ]
  },
  {
   "cell_type": "code",
   "execution_count": 1,
   "metadata": {
    "collapsed": false
   },
   "outputs": [],
   "source": [
    "import pandas\n",
    "df = pandas.DataFrame({\n",
    "        'A': [-137, 22, -3, 4, 5],\n",
    "        'B': [10, 11, 121, 13, 14],\n",
    "        'C': [3, 6, 91, 12, 45],\n",
    "    })"
   ]
  },
  {
   "cell_type": "markdown",
   "metadata": {},
   "source": [
    "Here, we've created an object called `df`, which has three columns of data, labed `A`, `B`, and `C`. The dictionary passed in maps each column name to a list of column data. So in your mind, you rotate each horizontal list into a vertical column - got it? Then the data is organized like this:"
   ]
  },
  {
   "cell_type": "code",
   "execution_count": 2,
   "metadata": {
    "collapsed": false
   },
   "outputs": [
    {
     "data": {
      "text/html": [
       "<div>\n",
       "<table border=\"1\" class=\"dataframe\">\n",
       "  <thead>\n",
       "    <tr style=\"text-align: right;\">\n",
       "      <th></th>\n",
       "      <th>A</th>\n",
       "      <th>B</th>\n",
       "      <th>C</th>\n",
       "    </tr>\n",
       "  </thead>\n",
       "  <tbody>\n",
       "    <tr>\n",
       "      <th>0</th>\n",
       "      <td>-137</td>\n",
       "      <td>10</td>\n",
       "      <td>3</td>\n",
       "    </tr>\n",
       "    <tr>\n",
       "      <th>1</th>\n",
       "      <td>22</td>\n",
       "      <td>11</td>\n",
       "      <td>6</td>\n",
       "    </tr>\n",
       "    <tr>\n",
       "      <th>2</th>\n",
       "      <td>-3</td>\n",
       "      <td>121</td>\n",
       "      <td>91</td>\n",
       "    </tr>\n",
       "    <tr>\n",
       "      <th>3</th>\n",
       "      <td>4</td>\n",
       "      <td>13</td>\n",
       "      <td>12</td>\n",
       "    </tr>\n",
       "    <tr>\n",
       "      <th>4</th>\n",
       "      <td>5</td>\n",
       "      <td>14</td>\n",
       "      <td>45</td>\n",
       "    </tr>\n",
       "  </tbody>\n",
       "</table>\n",
       "</div>"
      ],
      "text/plain": [
       "     A    B   C\n",
       "0 -137   10   3\n",
       "1   22   11   6\n",
       "2   -3  121  91\n",
       "3    4   13  12\n",
       "4    5   14  45"
      ]
     },
     "execution_count": 2,
     "metadata": {},
     "output_type": "execute_result"
    }
   ],
   "source": [
    "df"
   ]
  },
  {
   "cell_type": "markdown",
   "metadata": {},
   "source": [
    "The far left is an index, and the columns of data are headed by their names. Now, Pandas lets you do some interesting things like select a certain subset of the data, according to a criteria. For example:"
   ]
  },
  {
   "cell_type": "markdown",
   "metadata": {},
   "source": [
    "<span id=\"selectSubset\"/>"
   ]
  },
  {
   "cell_type": "code",
   "execution_count": 114,
   "metadata": {
    "collapsed": false
   },
   "outputs": [
    {
     "data": {
      "text/html": [
       "<div>\n",
       "<table border=\"1\" class=\"dataframe\">\n",
       "  <thead>\n",
       "    <tr style=\"text-align: right;\">\n",
       "      <th></th>\n",
       "      <th>A</th>\n",
       "      <th>B</th>\n",
       "      <th>C</th>\n",
       "    </tr>\n",
       "  </thead>\n",
       "  <tbody>\n",
       "    <tr>\n",
       "      <th>1</th>\n",
       "      <td>22</td>\n",
       "      <td>11</td>\n",
       "      <td>6</td>\n",
       "    </tr>\n",
       "    <tr>\n",
       "      <th>3</th>\n",
       "      <td>4</td>\n",
       "      <td>13</td>\n",
       "      <td>12</td>\n",
       "    </tr>\n",
       "    <tr>\n",
       "      <th>4</th>\n",
       "      <td>5</td>\n",
       "      <td>14</td>\n",
       "      <td>15</td>\n",
       "    </tr>\n",
       "  </tbody>\n",
       "</table>\n",
       "</div>"
      ],
      "text/plain": [
       "    A   B   C\n",
       "1  22  11   6\n",
       "3   4  13  12\n",
       "4   5  14  15"
      ]
     },
     "execution_count": 114,
     "metadata": {},
     "output_type": "execute_result"
    }
   ],
   "source": [
    "positive_a = df[df.A > 0]\n",
    "positive_a"
   ]
  },
  {
   "cell_type": "markdown",
   "metadata": {},
   "source": [
    "See what's happening: the expression `df.A > 0` tells Pandas: \"Give me a new DataFrame, consisting only of those rows of `df` whose value in the `A` column is positive.\"  We can do more sophisticated expressions too:"
   ]
  },
  {
   "cell_type": "markdown",
   "metadata": {},
   "source": [
    "<span id=\"createNewDataFrame\"/>"
   ]
  },
  {
   "cell_type": "code",
   "execution_count": 115,
   "metadata": {
    "collapsed": false
   },
   "outputs": [
    {
     "data": {
      "text/html": [
       "<div>\n",
       "<table border=\"1\" class=\"dataframe\">\n",
       "  <thead>\n",
       "    <tr style=\"text-align: right;\">\n",
       "      <th></th>\n",
       "      <th>A</th>\n",
       "      <th>B</th>\n",
       "      <th>C</th>\n",
       "    </tr>\n",
       "  </thead>\n",
       "  <tbody>\n",
       "    <tr>\n",
       "      <th>2</th>\n",
       "      <td>-3</td>\n",
       "      <td>121</td>\n",
       "      <td>91</td>\n",
       "    </tr>\n",
       "    <tr>\n",
       "      <th>4</th>\n",
       "      <td>5</td>\n",
       "      <td>14</td>\n",
       "      <td>15</td>\n",
       "    </tr>\n",
       "  </tbody>\n",
       "</table>\n",
       "</div>"
      ],
      "text/plain": [
       "   A    B   C\n",
       "2 -3  121  91\n",
       "4  5   14  15"
      ]
     },
     "execution_count": 115,
     "metadata": {},
     "output_type": "execute_result"
    }
   ],
   "source": [
    "# Bigger B column values\n",
    "big_b = df[df.B >= 14]\n",
    "big_b"
   ]
  },
  {
   "cell_type": "code",
   "execution_count": 116,
   "metadata": {
    "collapsed": false
   },
   "outputs": [
    {
     "data": {
      "text/html": [
       "<div>\n",
       "<table border=\"1\" class=\"dataframe\">\n",
       "  <thead>\n",
       "    <tr style=\"text-align: right;\">\n",
       "      <th></th>\n",
       "      <th>A</th>\n",
       "      <th>B</th>\n",
       "      <th>C</th>\n",
       "    </tr>\n",
       "  </thead>\n",
       "  <tbody>\n",
       "    <tr>\n",
       "      <th>0</th>\n",
       "      <td>-137</td>\n",
       "      <td>10</td>\n",
       "      <td>3</td>\n",
       "    </tr>\n",
       "    <tr>\n",
       "      <th>3</th>\n",
       "      <td>4</td>\n",
       "      <td>13</td>\n",
       "      <td>12</td>\n",
       "    </tr>\n",
       "    <tr>\n",
       "      <th>4</th>\n",
       "      <td>5</td>\n",
       "      <td>14</td>\n",
       "      <td>15</td>\n",
       "    </tr>\n",
       "  </tbody>\n",
       "</table>\n",
       "</div>"
      ],
      "text/plain": [
       "     A   B   C\n",
       "0 -137  10   3\n",
       "3    4  13  12\n",
       "4    5  14  15"
      ]
     },
     "execution_count": 116,
     "metadata": {},
     "output_type": "execute_result"
    }
   ],
   "source": [
    "# Or even express relationships between different columns:\n",
    "coupled = df[df.A + df.B < 20]\n",
    "coupled"
   ]
  },
  {
   "cell_type": "markdown",
   "metadata": {},
   "source": [
    "In an expression like `df[df.A > 0]`, the part in the brackets becomes a filter; you get a new `DataFrame` with only the matching rows.\n",
    "\n",
    "But when you think about it, **that's a little weird**. Boolean expressions are supposed to evaluate to either True or False. That means everything I typed above should become either `df[True]` or `df[False]` at runtime... encoding no information about the rows you actually want.\n",
    "\n",
    "**So what's going on? How in the world does this work?**\n",
    "\n",
    "# Magic Methods\n",
    "\n",
    "Let's explore all this by building our own data-processing library, called `fakepandas`. We won't implement any of the real work Pandas does under the hood, so you'll always want to use Pandas for any actual data-processing work. Instead, we'll focus on the surface magic... how Pandas provides its interface. Our goal is to reinvent that with `fakepandas`, and learn a lot in the process, so we can this Python magic in our own libraries.\n",
    "\n",
    "And in fact, it turns out this magic relies on a a feature of Python called **magic methods**."
   ]
  },
  {
   "cell_type": "markdown",
   "metadata": {},
   "source": [
    "TODO: Write more narration, etc. below. About 97% of the code I'll use in the oriole is below, I just need to write more exposition, etc."
   ]
  },
  {
   "cell_type": "code",
   "execution_count": 117,
   "metadata": {
    "collapsed": true
   },
   "outputs": [],
   "source": [
    "def num_rows(d):\n",
    "    '''\n",
    "    Get number of data rows.\n",
    "\n",
    "    Raise ValueError if not all columns have the same number of rows.\n",
    "    '''\n",
    "    if len(d) == 0:\n",
    "        return 0\n",
    "    def gen_columns():\n",
    "        for v in d.values():\n",
    "            yield v\n",
    "    columns = gen_columns()\n",
    "    length = len(next(columns))\n",
    "    for index, column in enumerate(columns, 1):\n",
    "        if len(column) != length:\n",
    "            raise ValueError(index)\n",
    "    return length"
   ]
  },
  {
   "cell_type": "code",
   "execution_count": 118,
   "metadata": {
    "collapsed": true
   },
   "outputs": [],
   "source": [
    "# The operator module does not provide functions for the logical \"and\"\n",
    "# and \"or\" operators, only the bitwise \"&\" and \"|\". So we make our own\n",
    "# functions for the logicals.\n",
    "def logical_and(a, b):\n",
    "    return a and b\n",
    "\n",
    "def logical_or(a, b):\n",
    "    return a or b\n",
    "\n",
    "class GeneralComparison:\n",
    "    '''\n",
    "    A generic representation of a comparison.\n",
    "\n",
    "    Used when comparing two columns to each other (i.e., two LabelReferences).\n",
    "    '''\n",
    "    def __init__(self, lookup, value, operate):\n",
    "        self.lookup = lookup\n",
    "        self.value = value\n",
    "        self.operate = operate\n",
    "    def apply(self, data, row_number):\n",
    "        other_value = self.lookup(data, row_number)\n",
    "        return self.operate(other_value, self.value)\n",
    "    # __and__ is actually bitwise and (\"a & b\"), not logical and (\"a\n",
    "    # and b\").  Unfortunately, no current version of Python provides a\n",
    "    # magic method for logical and.  Thus, we have little choice but\n",
    "    # to fake it using bitwise and.\n",
    "    def __and__(self, other):\n",
    "        return Conjunction(self, other, logical_and)\n",
    "    # The situation with __or__ is exactly analogous.\n",
    "    def __or__(self, other):\n",
    "        return Conjunction(self, other, logical_or)"
   ]
  },
  {
   "cell_type": "code",
   "execution_count": 119,
   "metadata": {
    "collapsed": true
   },
   "outputs": [],
   "source": [
    "class Comparison(GeneralComparison):\n",
    "    '''\n",
    "    Simplified form of comparison.\n",
    "\n",
    "    Used when comparing a column (LabelReference) to a constant value.\n",
    "    '''\n",
    "    def __init__(self, label: str, value, operate):\n",
    "        def lookup(data, row_number):\n",
    "            return data[label][row_number]\n",
    "        super().__init__(lookup, value, operate)"
   ]
  },
  {
   "cell_type": "code",
   "execution_count": 120,
   "metadata": {
    "collapsed": true
   },
   "outputs": [],
   "source": [
    "class Conjunction:\n",
    "    '''\n",
    "    Represents a logical \"and\" or \"or\" relationship between two expressions.\n",
    "\n",
    "    combine will generally be set to either logical_and or logical_or.\n",
    "    '''\n",
    "    def __init__(self, left: GeneralComparison, right: GeneralComparison, combine: 'func'):\n",
    "        self.left = left\n",
    "        self.right = right\n",
    "        self.combine = combine\n",
    "    def apply(self, data: dict, row_number: int):\n",
    "        return self.combine(self.left.apply(data, row_number), self.right.apply(data, row_number))\n",
    "\n"
   ]
  },
  {
   "cell_type": "code",
   "execution_count": 121,
   "metadata": {
    "collapsed": true
   },
   "outputs": [],
   "source": [
    "import operator\n",
    "class LabelReference:\n",
    "    '''\n",
    "    Represents a labeled column in a Dataset.\n",
    "    '''\n",
    "    def __init__(self, label: str):\n",
    "        self.label = label\n",
    "    def compare(self, value, operate):\n",
    "        return Comparison(self.label, value, operate)\n",
    "    def __lt__(self, value):\n",
    "        return self.compare(value, operator.lt)\n",
    "    def __gt__(self, value):\n",
    "        return self.compare(value, operator.gt)\n",
    "    def __ge__(self, value):\n",
    "        return self.compare(value, operator.ge)\n",
    "    def __le__(self, value):\n",
    "        return self.compare(value, operator.le)\n",
    "    def __eq__(self, value):\n",
    "        return self.compare(value, operator.eq)\n",
    "    def __add__(self, other):\n",
    "        return PairedLabelReference(self, other, operator.add)\n",
    "    def __sub__(self, other):\n",
    "        return PairedLabelReference(self, other, operator.sub)\n",
    "    def __mod__(self, other):\n",
    "        return PairedLabelReference(self, other, operator.mod)\n",
    "\n"
   ]
  },
  {
   "cell_type": "code",
   "execution_count": 122,
   "metadata": {
    "collapsed": true
   },
   "outputs": [],
   "source": [
    "class PairedLabelReference(LabelReference):\n",
    "    '''\n",
    "    Represents two separate columns in some comparision relation to each other.\n",
    "    '''\n",
    "    def __init__(self, first: LabelReference, second: LabelReference, operate: 'func'):\n",
    "        self.first = first\n",
    "        self.second = second\n",
    "        self.operate = operate\n",
    "    def lookup(self, data: dict, row_number: int):\n",
    "        first_value = data[self.first.label][row_number]\n",
    "        if isinstance(self.second, LabelReference):\n",
    "            second_value = data[self.second.label][row_number]\n",
    "        else:\n",
    "            second_value = self.second\n",
    "        return self.operate(first_value, second_value)\n",
    "    def compare(self, value, operate: 'func'):\n",
    "        return GeneralComparison(self.lookup, value, operate)\n",
    "\n"
   ]
  },
  {
   "cell_type": "code",
   "execution_count": 123,
   "metadata": {
    "collapsed": true
   },
   "outputs": [],
   "source": [
    "class Dataset:\n",
    "    '''\n",
    "    Core class representing a set of data.\n",
    "\n",
    "    Filter rows with obj[expression].\n",
    "    '''\n",
    "    def __init__(self, data: dict):\n",
    "        self.data = data\n",
    "        self.length = num_rows(data)\n",
    "        self.labels = sorted(data.keys())\n",
    "\n",
    "    def __getattr__(self, label: str):\n",
    "        if label not in self.data:\n",
    "            raise AttributeError(\"'{}' object has no attribute '{}'\".format(self.__class__.__name__, label))\n",
    "        return LabelReference(label)\n",
    "\n",
    "    def __getitem__(self, comparison: GeneralComparison):\n",
    "        filtered_data = dict((label, []) for label in self.labels)\n",
    "        def append_row(row_number):\n",
    "            for label in self.labels:\n",
    "                filtered_data[label].append(self.data[label][row_number])\n",
    "        for row_number in range(self.length):\n",
    "            if comparison.apply(self.data, row_number):\n",
    "                append_row(row_number)\n",
    "        return Dataset(filtered_data)\n",
    "\n",
    "    # presentation/rendering methods\n",
    "    def __str__(self):\n",
    "        return self.pprint_str()\n",
    "\n",
    "    def pprint_str(self):\n",
    "        # helpers\n",
    "        def width_of(label):\n",
    "            width = max(len(str(value)) for value in self.data[label])\n",
    "            width = max([width, len(str(label))])\n",
    "            return width\n",
    "        def format(value, label):\n",
    "            return '{value:>{width}}'.format(value=str(value), width=field_widths[label])\n",
    "\n",
    "        # precompute\n",
    "        field_widths = {label: width_of(label) for label in self.labels}\n",
    "        table_width = sum(width for width in field_widths.values()) + 3 * (len(self.labels)-1) + 4\n",
    "        HR = '-' * table_width\n",
    "\n",
    "        # render lines\n",
    "        labels_line = '| ' + ' | '.join(format(label, label) for label in self.labels) + ' |'\n",
    "        lines = [\n",
    "            HR,\n",
    "            labels_line,\n",
    "            HR,\n",
    "        ]\n",
    "        for row_number in range(self.length):\n",
    "            formatted_values = (format(self.data[label][row_number], label) for label in self.labels)\n",
    "            lines.append('| ' + ' | '.join(formatted_values) + ' |')\n",
    "        lines.append(HR)\n",
    "        return '\\n'.join(lines)"
   ]
  },
  {
   "cell_type": "code",
   "execution_count": 124,
   "metadata": {
    "collapsed": true
   },
   "outputs": [],
   "source": [
    "ds = Dataset({\n",
    "    'A': [-1, 2, -3, 4, 5],\n",
    "    'B': [10, 11, 12, 13, 14],\n",
    "    'C': [3, 6, 9, 12, 15],\n",
    "})\n",
    "\n",
    "ds2 = Dataset({\n",
    "    'A': [-137, 22, -3, 4, 5],\n",
    "    'B': [10, 11, 121, 13, 14],\n",
    "    'C': [3, 6, 91, 12, 15],\n",
    "})"
   ]
  },
  {
   "cell_type": "code",
   "execution_count": 125,
   "metadata": {
    "collapsed": false
   },
   "outputs": [
    {
     "name": "stdout",
     "output_type": "stream",
     "text": [
      "----------------\n",
      "|  A |  B |  C |\n",
      "----------------\n",
      "| -1 | 10 |  3 |\n",
      "|  2 | 11 |  6 |\n",
      "| -3 | 12 |  9 |\n",
      "|  4 | 13 | 12 |\n",
      "|  5 | 14 | 15 |\n",
      "----------------\n",
      "---------------\n",
      "|  A |  B | C |\n",
      "---------------\n",
      "| -1 | 10 | 3 |\n",
      "| -3 | 12 | 9 |\n",
      "---------------\n",
      "---------------\n",
      "| A |  B |  C |\n",
      "---------------\n",
      "| 2 | 11 |  6 |\n",
      "| 4 | 13 | 12 |\n",
      "| 5 | 14 | 15 |\n",
      "---------------\n",
      "----------------\n",
      "|  A |  B |  C |\n",
      "----------------\n",
      "| -3 | 12 |  9 |\n",
      "|  4 | 13 | 12 |\n",
      "|  5 | 14 | 15 |\n",
      "----------------\n",
      "---------------\n",
      "|  A |  B | C |\n",
      "---------------\n",
      "| -1 | 10 | 3 |\n",
      "|  2 | 11 | 6 |\n",
      "| -3 | 12 | 9 |\n",
      "---------------\n",
      "---------------\n",
      "| A |  B |  C |\n",
      "---------------\n",
      "| 4 | 13 | 12 |\n",
      "| 5 | 14 | 15 |\n",
      "---------------\n",
      "---------------\n",
      "| A |  B |  C |\n",
      "---------------\n",
      "| 2 | 11 |  6 |\n",
      "| 4 | 13 | 12 |\n",
      "| 5 | 14 | 15 |\n",
      "---------------\n",
      "---------------\n",
      "|  A |  B | C |\n",
      "---------------\n",
      "| -1 | 10 | 3 |\n",
      "| -3 | 12 | 9 |\n",
      "---------------\n",
      "---------------\n",
      "|  A |  B | C |\n",
      "---------------\n",
      "| -1 | 10 | 3 |\n",
      "|  2 | 11 | 6 |\n",
      "| -3 | 12 | 9 |\n",
      "---------------\n",
      "---------------\n",
      "| A |  B |  C |\n",
      "---------------\n",
      "| 5 | 14 | 15 |\n",
      "---------------\n",
      "---------------\n",
      "|  A |  B | C |\n",
      "---------------\n",
      "| -1 | 10 | 3 |\n",
      "|  2 | 11 | 6 |\n",
      "| -3 | 12 | 9 |\n",
      "---------------\n",
      "---------------\n",
      "| A |  B |  C |\n",
      "---------------\n",
      "| 4 | 13 | 12 |\n",
      "| 5 | 14 | 15 |\n",
      "---------------\n",
      "---------------\n",
      "| A |  B |  C |\n",
      "---------------\n",
      "| 2 | 11 |  6 |\n",
      "| 4 | 13 | 12 |\n",
      "| 5 | 14 | 15 |\n",
      "---------------\n",
      "----------------\n",
      "|  A |  B |  C |\n",
      "----------------\n",
      "| -1 | 10 |  3 |\n",
      "|  2 | 11 |  6 |\n",
      "| -3 | 12 |  9 |\n",
      "|  4 | 13 | 12 |\n",
      "|  5 | 14 | 15 |\n",
      "----------------\n",
      "---------------\n",
      "| A |  B |  C |\n",
      "---------------\n",
      "| 2 | 11 |  6 |\n",
      "| 4 | 13 | 12 |\n",
      "---------------\n",
      "----------------\n",
      "|  A |  B |  C |\n",
      "----------------\n",
      "| -1 | 10 |  3 |\n",
      "| -3 | 12 |  9 |\n",
      "|  5 | 14 | 15 |\n",
      "----------------\n"
     ]
    }
   ],
   "source": [
    "# TODO: Make it produce a nicer html rendering, like Pandas does\n",
    "# Short version is I need to add a Dataset.to_html() method and \n",
    "# convince jupyter to pass it through IPython.display.HTML automagically\n",
    "print(ds)\n",
    "print(ds[ds.A < 0])\n",
    "print(ds[ds.A > 0])\n",
    "print(ds[ds.B >= 12])\n",
    "print(ds[ds.B <= 12])\n",
    "print(ds[(ds.A > 0) & (ds.B >= 12)])\n",
    "print(ds[(ds.A >= 3) | (ds.B == 11)])\n",
    "print(ds[ds.A + ds.B < 10])\n",
    "print(ds[ds.B - ds.C >= 3])\n",
    "print(ds[ds.A + ds.B == 19])\n",
    "print(ds[ds.B - ds.C >= 3])\n",
    "print(ds[(ds.A > 0) & (ds.B >= 12)])\n",
    "print(ds[(ds.A >= 3) | (ds.B == 11)])\n",
    "print(ds[ds.C + 2 < ds.B])\n",
    "print(ds[ds.C % 2 == 0])\n",
    "print(ds[ds.C % 2 == 1])"
   ]
  },
  {
   "cell_type": "code",
   "execution_count": null,
   "metadata": {
    "collapsed": true
   },
   "outputs": [],
   "source": []
  }
 ],
 "metadata": {
  "kernelspec": {
   "display_name": "Python 3",
   "language": "python",
   "name": "python3"
  },
  "language_info": {
   "codemirror_mode": {
    "name": "ipython",
    "version": 3
   },
   "file_extension": ".py",
   "mimetype": "text/x-python",
   "name": "python",
   "nbconvert_exporter": "python",
   "pygments_lexer": "ipython3",
   "version": "3.5.2"
  }
 },
 "nbformat": 4,
 "nbformat_minor": 0
}
